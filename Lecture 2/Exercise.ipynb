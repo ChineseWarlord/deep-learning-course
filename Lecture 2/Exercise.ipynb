{
 "cells": [
  {
   "cell_type": "code",
   "execution_count": 63,
   "metadata": {},
   "outputs": [
    {
     "data": {
      "text/plain": [
       "\"\\nimport networkx as nx\\nimport matplotlib.pyplot as plt\\n\\nG = nx.Graph()\\nG.add_nodes_from([2, 3])\\n\\nsubax1 = plt.subplot(121)\\n#nx.draw(G, with_labels=True, font_weight='bold')\\nnx.draw_networkx(G)\\n#subax2 = plt.subplot(122)\\n#nx.draw_shell(G, nlist=[range(5, 10), range(5)], with_labels=True, font_weight='bold')\\n\\nG = nx.complete_graph(5)\\nnx.draw(G)\\n\\nG = nx.path_graph(4)\\nshells = [[0], [1, 2, 3]]\\nnx.draw_shell(G,with_labels=True, font_weight='bold',nlist=shells,)\\n#nx.draw(G, with_labels=True, font_weight='bold')\\n\""
      ]
     },
     "execution_count": 63,
     "metadata": {},
     "output_type": "execute_result"
    }
   ],
   "source": [
    "\"\"\"\n",
    "import networkx as nx\n",
    "import matplotlib.pyplot as plt\n",
    "\n",
    "G = nx.Graph()\n",
    "G.add_nodes_from([2, 3])\n",
    "\n",
    "subax1 = plt.subplot(121)\n",
    "#nx.draw(G, with_labels=True, font_weight='bold')\n",
    "nx.draw_networkx(G)\n",
    "#subax2 = plt.subplot(122)\n",
    "#nx.draw_shell(G, nlist=[range(5, 10), range(5)], with_labels=True, font_weight='bold')\n",
    "\n",
    "G = nx.complete_graph(5)\n",
    "nx.draw(G)\n",
    "\n",
    "G = nx.path_graph(4)\n",
    "shells = [[0], [1, 2, 3]]\n",
    "nx.draw_shell(G,with_labels=True, font_weight='bold',nlist=shells,)\n",
    "#nx.draw(G, with_labels=True, font_weight='bold')\n",
    "\"\"\""
   ]
  },
  {
   "cell_type": "markdown",
   "metadata": {},
   "source": [
    "# Draw graph of measurements"
   ]
  },
  {
   "cell_type": "code",
   "execution_count": 72,
   "metadata": {},
   "outputs": [
    {
     "data": {
      "image/png": "[encoded data removed]",
      "text/plain": [
       "<Figure size 640x480 with 1 Axes>"
      ]
     },
     "metadata": {},
     "output_type": "display_data"
    }
   ],
   "source": [
    "import pandas as pd\n",
    "import matplotlib.pyplot as plt\n",
    "import networkx as nx\n",
    "\n",
    "data_path = r\"data/measurements.csv\"\n",
    "data = pd.read_csv(data_path)\n",
    "\n",
    "G = nx.Graph()\n",
    "\n",
    "for i, row in data.iterrows():\n",
    "    G.add_node(i, pos=(row[\"X\"], row[\"Y\"]))\n",
    "\n",
    "plt.title(f\"No. of nodes: {G.number_of_nodes()}\")\n",
    "nx.draw(G, pos=nx.get_node_attributes(G,\"pos\"), with_labels=False, node_size=100, font_weight='bold')\n",
    "plt.show()"
   ]
  },
  {
   "cell_type": "markdown",
   "metadata": {},
   "source": [
    "# k-NN Function"
   ]
  },
  {
   "cell_type": "code",
   "execution_count": null,
   "metadata": {},
   "outputs": [],
   "source": [
    "# The following code is for the KNN Clustering from Scratch\n",
    "# Created by - ANALYTICS VIDHYA\n",
    "\n",
    "# Importing libraries\n",
    "import pandas as pd\n",
    "import numpy as np\n",
    "import math\n",
    "import operator\n",
    "\n",
    "\n",
    "#### Start of STEP 1\n",
    "# Importing data \n",
    "data = pd.read_csv('iris.csv')\n",
    "#### End of STEP 1\n",
    "\n",
    "print(data.head(5)) \n",
    "\n",
    "# Defining a function which calculates euclidean distance between two data points\n",
    "def euclideanDistance(data1, data2, length):\n",
    "    distance = 0\n",
    "    for x in range(length):\n",
    "        distance += np.square(data1[x] - data2[x])\n",
    "    return np.sqrt(distance)\n",
    "\n",
    "# Defining our KNN model\n",
    "def knn(trainingSet, testInstance, k):\n",
    " \n",
    "    distances = {}\n",
    "    sort = {}\n",
    " \n",
    "    length = testInstance.shape[1]\n",
    "    \n",
    "    #### Start of STEP 3\n",
    "    # Calculating euclidean distance between each row of training data and test data\n",
    "    for x in range(len(trainingSet)):\n",
    "        \n",
    "        #### Start of STEP 3.1\n",
    "        dist = euclideanDistance(testInstance, trainingSet.iloc[x], length)\n",
    "\n",
    "        distances[x] = dist[0]\n",
    "        #### End of STEP 3.1\n",
    " \n",
    "    #### Start of STEP 3.2\n",
    "    # Sorting them on the basis of distance\n",
    "    sorted_d = sorted(distances.items(), key=operator.itemgetter(1))\n",
    "    #### End of STEP 3.2\n",
    " \n",
    "    neighbors = []\n",
    "    \n",
    "    #### Start of STEP 3.3\n",
    "    # Extracting top k neighbors\n",
    "    for x in range(k):\n",
    "        neighbors.append(sorted_d[x][0])\n",
    "    #### End of STEP 3.3\n",
    "    classVotes = {}\n",
    "    \n",
    "    #### Start of STEP 3.4\n",
    "    # Calculating the most freq class in the neighbors\n",
    "    for x in range(len(neighbors)):\n",
    "        response = trainingSet.iloc[neighbors[x]][-1]\n",
    " \n",
    "        if response in classVotes:\n",
    "            classVotes[response] += 1\n",
    "        else:\n",
    "            classVotes[response] = 1\n",
    "    #### End of STEP 3.4\n",
    "\n",
    "    #### Start of STEP 3.5\n",
    "    sortedVotes = sorted(classVotes.items(), key=operator.itemgetter(1), reverse=True)\n",
    "    return(sortedVotes[0][0], neighbors)\n",
    "    #### End of STEP 3.5\n",
    "\n",
    "\n",
    "testSet = [[7.2, 3.6, 5.1, 2.5]]\n",
    "test = pd.DataFrame(testSet)\n",
    "\n",
    "#### Start of STEP 2\n",
    "# Setting number of neighbors = 1\n",
    "\n",
    "\n",
    "print('\\n\\nWith 1 Nearest Neighbour \\n\\n')\n",
    "k = 1\n",
    "#### End of STEP 2\n",
    "# Running KNN model\n",
    "result,neigh = knn(data, test, k)\n",
    "\n",
    "# Predicted class\n",
    "print('\\nPredicted Class of the datapoint = ', result)\n",
    "\n",
    "# Nearest neighbor\n",
    "print('\\nNearest Neighbour of the datapoints = ',neigh)\n",
    "\n",
    "\n",
    "print('\\n\\nWith 3 Nearest Neighbours\\n\\n')\n",
    "# Setting number of neighbors = 3 \n",
    "k = 3 \n",
    "# Running KNN model \n",
    "result,neigh = knn(data, test, k) \n",
    "\n",
    "# Predicted class \n",
    "print('\\nPredicted class of the datapoint = ',result)\n",
    "\n",
    "# Nearest neighbor\n",
    "print('\\nNearest Neighbours of the datapoints = ',neigh)\n",
    "\n",
    "print('\\n\\nWith 5 Nearest Neighbours\\n\\n')\n",
    "# Setting number of neighbors = 3 \n",
    "k = 5\n",
    "# Running KNN model \n",
    "result,neigh = knn(data, test, k) \n",
    "\n",
    "# Predicted class \n",
    "print('\\nPredicted class of the datapoint = ',result)\n",
    "\n",
    "# Nearest neighbor\n",
    "print('\\nNearest Neighbours of the datapoints = ',neigh)"
   ]
  }
 ],
 "metadata": {
  "kernelspec": {
   "display_name": ".venv",
   "language": "python",
   "name": "python3"
  },
  "language_info": {
   "codemirror_mode": {
    "name": "ipython",
    "version": 3
   },
   "file_extension": ".py",
   "mimetype": "text/x-python",
   "name": "python",
   "nbconvert_exporter": "python",
   "pygments_lexer": "ipython3",
   "version": "3.11.6"
  }
 },
 "nbformat": 4,
 "nbformat_minor": 2
}
