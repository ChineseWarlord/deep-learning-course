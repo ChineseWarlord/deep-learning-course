{
 "cells": [
  {
   "cell_type": "markdown",
   "metadata": {},
   "source": [
    "# Mini-Project - Covid-19 Cough Audio Classification\n",
    "\n",
    "1. Explore the dataset through code\n",
    "* How many samples does the dataset contain?\n",
    "* How many classes? How many samples per class? Show a histogram of the number of instances per class\n",
    "* Play a random sample from each class\n",
    "* Describe if/how you think the data distribution will affect training of a classifier.\n",
    "* Decide what part of the dataset to use; all, some classes, some samples. Motivate your choice"
   ]
  },
  {
   "cell_type": "code",
   "execution_count": null,
   "metadata": {},
   "outputs": [],
   "source": [
    "import numpy as np \n",
    "import pandas as pd"
   ]
  }
 ],
 "metadata": {
  "kernelspec": {
   "display_name": ".venv",
   "language": "python",
   "name": "python3"
  },
  "language_info": {
   "name": "python",
   "version": "3.11.6"
  }
 },
 "nbformat": 4,
 "nbformat_minor": 2
}
