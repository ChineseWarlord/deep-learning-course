{
 "cells": [
  {
   "cell_type": "markdown",
   "metadata": {},
   "source": [
    "# Mini-Project - Covid-19 Cough Audio Classification\n",
    "\n",
    "1. Explore the dataset through code\n",
    "    * How many samples does the dataset contain?\n",
    "    * How many classes? How many samples per class? Show a histogram of the number of instances per class\n",
    "    * Play a random sample from each class\n",
    "    * Describe if/how you think the data distribution will affect training of a classifier.\n",
    "    * Decide what part of the dataset to use; all, some classes, some samples. Motivate your choice"
   ]
  },
  {
   "cell_type": "code",
   "execution_count": 1,
   "metadata": {},
   "outputs": [
    {
     "data": {
      "text/plain": [
       "'\\nfrom matplotlib import pyplot as plt\\nfrom glob import glob\\nimport pandas as pd\\nimport numpy as np\\nimport os\\n\\n# Load in metadata.csv\\ndata_path = r\"metadata_compiled.csv\"\\ndata = pd.read_csv(data_path, sep=\",\")\\n#data.columns = data.columns.str.replace(\" \", \"\")\\n\\ndata = data[[\"uuid\",\"cough_detected\",\"SNR\",\"age\",\"gender\",\"status\"]].loc[data[\\'cough_detected\\'] >= 0.5].dropna()\\nprint(data[\"status\"].value_counts())\\nprint(\"Total samples\",len(data))\\n\\n#data.to_csv(\"status_check.csv\")\\n\\n#plt.figure(figsize=(6,4))\\n#plt.title(\"Histogram of Patient Status\")\\n#plt.bar(data[\\'status\\'].value_counts().index, data[\\'status\\'].value_counts())\\n#plt.xticks(rotation=20, ha=\\'right\\', fontsize=8)\\n#plt.xlabel(\\'Class\\', fontsize=8)\\n#plt.ylabel(\\'Frequency\\', fontsize=8)\\n#plt.show()\\n\\n#print(data[\"cough_detected\"][0])\\n'"
      ]
     },
     "execution_count": 1,
     "metadata": {},
     "output_type": "execute_result"
    }
   ],
   "source": [
    "from matplotlib import pyplot as plt\n",
    "from glob import glob\n",
    "import pandas as pd\n",
    "import numpy as np\n",
    "import os\n",
    "\n",
    "# Load in metadata.csv\n",
    "data_path = r\"metadata_compiled.csv\"\n",
    "data = pd.read_csv(data_path, sep=\",\")\n",
    "#data.columns = data.columns.str.replace(\" \", \"\")\n",
    "\n",
    "data = data[[\"uuid\",\"cough_detected\",\"SNR\",\"age\",\"gender\",\"status\"]].loc[data['cough_detected'] >= 0.5].dropna()\n",
    "print(data[\"status\"].value_counts())\n",
    "print(\"Total samples\",len(data))\n",
    "\n",
    "#data.to_csv(\"status_check.csv\")\n",
    "\n",
    "#plt.figure(figsize=(6,4))\n",
    "#plt.title(\"Histogram of Patient Status\")\n",
    "#plt.bar(data['status'].value_counts().index, data['status'].value_counts())\n",
    "#plt.xticks(rotation=20, ha='right', fontsize=8)\n",
    "#plt.xlabel('Class', fontsize=8)\n",
    "#plt.ylabel('Frequency', fontsize=8)\n",
    "#plt.show()\n",
    "\n",
    "#print(data[\"cough_detected\"][0])\n"
   ]
  },
  {
   "cell_type": "code",
   "execution_count": 2,
   "metadata": {},
   "outputs": [
    {
     "data": {
      "text/plain": [
       "'\\n\\nwebm_data = []\\nogg_data = []\\nc = 0\\nfor file in data[\\'uuid\\']:\\n    if os.path.exists(os.path.join(data_dir_path, f\\'{file}.webm\\')):\\n        webm_data.append(os.path.join(data_dir_path, f\\'{file}.webm\\'))\\n    elif os.path.exists(os.path.join(data_dir_path, f\\'{file}.ogg\\')):\\n        ogg_data.append(os.path.join(data_dir_path, f\\'{file}.ogg\\'))\\n    #file_path = os.path.join(data_dir_path, f\"{path}.webm\")\\n    #webm_data.append(file_path)\\n    #json_data = pd.read_json(file_path, orient=\"table\")\\n    #print(json_data)\\n  \\nwebm_data = pd.DataFrame(webm_data)\\nwebm_data.to_csv(\"webm_data.csv\")\\nogg_data = pd.DataFrame(ogg_data)\\nogg_data.to_csv(\"ogg_data.csv\")\\n'"
      ]
     },
     "execution_count": 2,
     "metadata": {},
     "output_type": "execute_result"
    }
   ],
   "source": [
    "#print(data[\"uuid\"][1])\n",
    "\n",
    "data_dir_path = r\"../Dataset/\"\n",
    "# glob(os.path.join(clip_dir, '*.txt')):\n",
    "t = os.listdir(data_dir_path)\n",
    "\n",
    "\"\"\"\n",
    "#data = []\n",
    "#for i in t:\n",
    "#    if i.endswith(\".webm\") or i.endswith(\".ogg\"):\n",
    "#        data.append(os.path.join(data_dir_path, i))\n",
    "\n",
    "#data = pd.DataFrame(data, columns=[\"Links\"]).to_csv(\"files.csv\", index=False)  \n",
    "\n",
    "#print(t := os.path.join(data_dir_path, data[\"uuid\"][1]+\".json\"))\n",
    "\n",
    "#print(t[0])\n",
    "#print(data[\"uuid\"][1])\n",
    "\"\"\"\n",
    "\n",
    "webm_data = []\n",
    "ogg_data = []\n",
    "c = 0\n",
    "for file in data['uuid']:\n",
    "    if os.path.exists(os.path.join(data_dir_path, f'{file}.webm')):\n",
    "        webm_data.append(os.path.join(data_dir_path, f'{file}.webm'))\n",
    "    elif os.path.exists(os.path.join(data_dir_path, f'{file}.ogg')):\n",
    "        ogg_data.append(os.path.join(data_dir_path, f'{file}.ogg'))\n",
    "    #file_path = os.path.join(data_dir_path, f\"{path}.webm\")\n",
    "    #webm_data.append(file_path)\n",
    "    #json_data = pd.read_json(file_path, orient=\"table\")\n",
    "    #print(json_data)\n",
    "  \n",
    "webm_data = pd.DataFrame(webm_data)\n",
    "webm_data.to_csv(\"webm_data.csv\")\n",
    "ogg_data = pd.DataFrame(ogg_data)\n",
    "ogg_data.to_csv(\"ogg_data.csv\")\n"
   ]
  }
 ],
 "metadata": {
  "kernelspec": {
   "display_name": ".venv",
   "language": "python",
   "name": "python3"
  },
  "language_info": {
   "codemirror_mode": {
    "name": "ipython",
    "version": 3
   },
   "file_extension": ".py",
   "mimetype": "text/x-python",
   "name": "python",
   "nbconvert_exporter": "python",
   "pygments_lexer": "ipython3",
   "version": "3.11.6"
  }
 },
 "nbformat": 4,
 "nbformat_minor": 2
}
